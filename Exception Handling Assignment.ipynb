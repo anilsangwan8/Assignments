{
 "cells": [
  {
   "cell_type": "markdown",
   "metadata": {},
   "source": [
    "#### 1. Write a function to compute 5/0 and use try/except to catch the exceptions."
   ]
  },
  {
   "cell_type": "code",
   "execution_count": 216,
   "metadata": {},
   "outputs": [],
   "source": [
    "class div_by_0:\n",
    "    def __init__(a,n):\n",
    "        a.int = n\n",
    "    def div(a):\n",
    "        try:\n",
    "            return a.int / 0\n",
    "        except Exception as exp:\n",
    "            print(\"The code has failed due to error - \", exp)\n",
    "        else:\n",
    "            print(\"The code is Successfully Executed\")\n",
    "    def __str__(a):\n",
    "        return \"The digit %d can not be divided by Zero\"%(a.int)"
   ]
  },
  {
   "cell_type": "code",
   "execution_count": 219,
   "metadata": {},
   "outputs": [
    {
     "name": "stdout",
     "output_type": "stream",
     "text": [
      "The code has failed due to error -  division by zero\n",
      "The digit 5 can not be divided by Zero\n"
     ]
    }
   ],
   "source": [
    "digit = div_by_0(5)\n",
    "digit.div()\n",
    "print(digit)"
   ]
  },
  {
   "cell_type": "markdown",
   "metadata": {
    "scrolled": true
   },
   "source": [
    "##### 2. Implement a Python program to generate all sentences where subject is in\n",
    "##### [\"Americans\", \"Indians\"] and verb is in [\"Play\", \"watch\"] and the object is in [\"Baseball\",\"cricket\"]."
   ]
  },
  {
   "cell_type": "code",
   "execution_count": 213,
   "metadata": {},
   "outputs": [],
   "source": [
    "class sent:\n",
    "    def __init__(a,sub,vrb,obj):\n",
    "        a.subjects = sub\n",
    "        a.verbs = vrb\n",
    "        a.objects = obj\n",
    "    def sentence(a):\n",
    "        try:\n",
    "            for i in a.subjects:\n",
    "                for j in a.verbs:\n",
    "                    for k in a.objects :\n",
    "                        print(i,j,k+\".\")\n",
    "                        \n",
    "        except Exception as exp:\n",
    "            print(\"Code encountered error - \", exp)\n",
    "    \n",
    "        else:\n",
    "            return \"\"\"The code is successfully executed\"\"\"\n",
    "    \n",
    "    def __str__(a):\n",
    "        return \"\"\"The Sentences are as follows : \"\"\""
   ]
  },
  {
   "cell_type": "code",
   "execution_count": 214,
   "metadata": {},
   "outputs": [
    {
     "name": "stdout",
     "output_type": "stream",
     "text": [
      "The Sentences are as follows : \n",
      "-------------------------\n",
      "Americans  play Baseball.\n",
      "Americans  play Cricket.\n",
      "Americans  watch Baseball.\n",
      "Americans  watch Cricket.\n",
      "Indians play Baseball.\n",
      "Indians play Cricket.\n",
      "Indians watch Baseball.\n",
      "Indians watch Cricket.\n"
     ]
    },
    {
     "data": {
      "text/plain": [
       "'The code is successfully executed'"
      ]
     },
     "execution_count": 214,
     "metadata": {},
     "output_type": "execute_result"
    }
   ],
   "source": [
    "subjects=[\"Americans \",\"Indians\"]\n",
    "verbs=[\"play\",\"watch\"]\n",
    "objects=[\"Baseball\",\"Cricket\"]\n",
    "\n",
    "\n",
    "ind_ame_sent = sent(subjects,verbs,objects)\n",
    "print(ind_ame_sent)\n",
    "print(\"-\"*25)\n",
    "ind_ame_sent.sentence()"
   ]
  },
  {
   "cell_type": "code",
   "execution_count": 215,
   "metadata": {},
   "outputs": [
    {
     "data": {
      "text/plain": [
       "{'subjects': ['Americans ', 'Indians'],\n",
       " 'verbs': ['play', 'watch'],\n",
       " 'objects': ['Baseball', 'Cricket']}"
      ]
     },
     "execution_count": 215,
     "metadata": {},
     "output_type": "execute_result"
    }
   ],
   "source": [
    "ind_ame_sent.__dict__"
   ]
  },
  {
   "cell_type": "code",
   "execution_count": null,
   "metadata": {},
   "outputs": [],
   "source": []
  },
  {
   "cell_type": "code",
   "execution_count": null,
   "metadata": {},
   "outputs": [],
   "source": []
  }
 ],
 "metadata": {
  "kernelspec": {
   "display_name": "Python 3",
   "language": "python",
   "name": "python3"
  },
  "language_info": {
   "codemirror_mode": {
    "name": "ipython",
    "version": 3
   },
   "file_extension": ".py",
   "mimetype": "text/x-python",
   "name": "python",
   "nbconvert_exporter": "python",
   "pygments_lexer": "ipython3",
   "version": "3.7.3"
  }
 },
 "nbformat": 4,
 "nbformat_minor": 2
}
