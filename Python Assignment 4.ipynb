{
 "cells": [
  {
   "cell_type": "markdown",
   "metadata": {},
   "source": [
    "#### 1.1 Write a Python Program(with class concepts) to find the area of the triangle using the below formula.\n",
    "#### area = (s*(s-a)*(s-b)*(s-c)) ** 0.5"
   ]
  },
  {
   "cell_type": "code",
   "execution_count": 363,
   "metadata": {},
   "outputs": [
    {
     "name": "stdout",
     "output_type": "stream",
     "text": [
      "The area of Triangle with sides 3 cm, 4 cm and 5 cm is  6.0 square cm\n"
     ]
    }
   ],
   "source": [
    "class triangle:\n",
    "    def __init__(f,a,b,c):\n",
    "        f.t1=a\n",
    "        f.t2=b\n",
    "        f.t3=c\n",
    "        f.ss=(a+b+c)/2\n",
    "\n",
    "        \n",
    "class area(triangle):\n",
    "    def __init__(f,*args):\n",
    "        super(area,f).__init__(*args)\n",
    "    def area(f):\n",
    "        area = (f.ss*(f.ss-f.t1) *(f.ss-f.t2)*(f.ss-f.t3))**0.5\n",
    "        return area\n",
    "\n",
    "    def __str__(f):\n",
    "        return f\"The area of Triangle with sides {f.t1} cm, {f.t2} cm and {f.t3} cm is  {f.area() } square cm\"\n",
    "\n",
    "    \n",
    "    \n",
    "area_abc = area(3,4,5)\n",
    "print(area_abc)"
   ]
  },
  {
   "cell_type": "markdown",
   "metadata": {},
   "source": [
    "##### 1.2 Write a function filter_long_words() that takes a list of words and an integer n and returns the list of words that are longer than n."
   ]
  },
  {
   "cell_type": "code",
   "execution_count": 364,
   "metadata": {},
   "outputs": [
    {
     "name": "stdout",
     "output_type": "stream",
     "text": [
      "The List of words longer than 5 character is ['station', 'sleeping', 'aeroplane'].\n"
     ]
    }
   ],
   "source": [
    "class longwords:\n",
    "    def __init__(f,word,n):\n",
    "        f.l = word\n",
    "        f.n = n\n",
    "    def long(f):\n",
    "        lnwd = []\n",
    "        for i in range(0,len(f.l)):\n",
    "            if len(f.l[i]) > f.n :\n",
    "                lnwd.append(f.l[i])\n",
    "        return lnwd\n",
    "    def __str__(f):\n",
    "        return \"The List of words longer than %d character is %s.\" % (f.n, f.long())\n",
    "\n",
    "    \n",
    "word = [\"station\",\"fry\",\"try\",\"doing\",\"sleeping\",\"aeroplane\"]\n",
    "\n",
    "Long_than_5 = longwords(word, 5)\n",
    "Long_than_5.long()\n",
    "print(Long_than_5)"
   ]
  },
  {
   "cell_type": "markdown",
   "metadata": {},
   "source": [
    "#####  Write a Python program using function concept that maps list of words into a list of integers representing the lengths of the corresponding words.  Hint: If a list [ ab,cde,erty] is passed on to the python function output should come as [2,3,4]\n",
    "###### Here 2,3 and 4 are the lengths of the words in the list."
   ]
  },
  {
   "cell_type": "code",
   "execution_count": 365,
   "metadata": {},
   "outputs": [
    {
     "name": "stdout",
     "output_type": "stream",
     "text": [
      "List [7, 3, 3, 5, 8, 9] is a list of length of words in the list ['station', 'fry', 'try', 'doing', 'sleeping', 'aeroplane']\n"
     ]
    }
   ],
   "source": [
    "class mapper:\n",
    "    def __init__(f, L):\n",
    "        f.lst = L\n",
    "    def count(f):\n",
    "        cnt_list=[len(f.lst[i]) for i in range(0,len(f.lst))]\n",
    "        return cnt_list\n",
    "    def __str__(f):\n",
    "        return \"List %s is a list of length of words in the list %s\" % (f.count(), f.lst)\n",
    "    \n",
    "    \n",
    "word = [\"station\",\"fry\",\"try\",\"doing\",\"sleeping\",\"aeroplane\"]\n",
    "\n",
    "word_length = mapper(word)\n",
    "\n",
    "print(word_length)"
   ]
  },
  {
   "cell_type": "markdown",
   "metadata": {},
   "source": [
    "##### 2.2 Write a Python function which takes a character (i.e. a string of length 1) and returns True if it is a vowel, False otherwise."
   ]
  },
  {
   "cell_type": "code",
   "execution_count": 372,
   "metadata": {},
   "outputs": [
    {
     "name": "stdout",
     "output_type": "stream",
     "text": [
      "Is entered character a Vowel  ---  True\n"
     ]
    },
    {
     "data": {
      "text/plain": [
       "True"
      ]
     },
     "execution_count": 372,
     "metadata": {},
     "output_type": "execute_result"
    }
   ],
   "source": [
    "class alphabet:\n",
    "    def __init__(f,character):\n",
    "        f.chr = character\n",
    "    def vowel(f):\n",
    "        if f.chr in \"AEIOUaeiou\":\n",
    "            return True\n",
    "        else:\n",
    "           return  False\n",
    "    def __str__(f):\n",
    "        return \"Is entered character a Vowel  ---  %s\" % (f.vowel())\n",
    "    \n",
    "character = alphabet('o')\n",
    "\n",
    "print(character)\n",
    "\n",
    "character.vowel()"
   ]
  },
  {
   "cell_type": "code",
   "execution_count": 373,
   "metadata": {},
   "outputs": [
    {
     "data": {
      "text/plain": [
       "True"
      ]
     },
     "execution_count": 373,
     "metadata": {},
     "output_type": "execute_result"
    }
   ],
   "source": [
    "def vowel(x):\n",
    "    if x in \"aeiouAIOUE\":\n",
    "        return True\n",
    "    else:\n",
    "        return False\n",
    "    \n",
    "vowel(\"e\")"
   ]
  },
  {
   "cell_type": "code",
   "execution_count": null,
   "metadata": {},
   "outputs": [],
   "source": []
  }
 ],
 "metadata": {
  "kernelspec": {
   "display_name": "Python 3",
   "language": "python",
   "name": "python3"
  },
  "language_info": {
   "codemirror_mode": {
    "name": "ipython",
    "version": 3
   },
   "file_extension": ".py",
   "mimetype": "text/x-python",
   "name": "python",
   "nbconvert_exporter": "python",
   "pygments_lexer": "ipython3",
   "version": "3.7.3"
  }
 },
 "nbformat": 4,
 "nbformat_minor": 2
}
