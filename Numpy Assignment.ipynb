{
 "cells": [
  {
   "cell_type": "markdown",
   "metadata": {},
   "source": [
    "#### Write a function so that the columns of the output matrix are powers of the input vector.\n",
    "#### Alexandre-Theophile Vandermonde."
   ]
  },
  {
   "cell_type": "code",
   "execution_count": 9,
   "metadata": {},
   "outputs": [],
   "source": [
    "import numpy as np"
   ]
  },
  {
   "cell_type": "code",
   "execution_count": 154,
   "metadata": {},
   "outputs": [],
   "source": [
    "def vand(a,n = None,increasing = False):\n",
    "    if type(n) == int:\n",
    "        N = n\n",
    "        mj = np.array([[i**j for i in a for j in range(len(a))]])\n",
    "        hj = np.matrix(mj).reshape(len(a),len(a))\n",
    "        if increasing == True:\n",
    "            rj =  np.flip(np.asarray(hj), axis=1)\n",
    "            return np.flip(rj, axis=1)[:,0:N]\n",
    "        else:\n",
    "            rj =  np.flip(np.asarray(hj), axis=1)\n",
    "            rj =  np.flip(rj, axis=1)[:,0:N]\n",
    "            return np.flip(np.asarray(rj), axis=1)\n",
    "    else:\n",
    "        mj = np.array([[i**j for i in a for j in range(len(a))]])\n",
    "        hj = np.matrix(mj).reshape(len(a),len(a))\n",
    "        if increasing == True:\n",
    "            return np.asarray(hj)\n",
    "        else:\n",
    "            return np.flip(np.asarray(hj), axis=1)"
   ]
  },
  {
   "cell_type": "code",
   "execution_count": 165,
   "metadata": {},
   "outputs": [
    {
     "data": {
      "text/plain": [
       "array([[1, 1],\n",
       "       [1, 2],\n",
       "       [1, 3],\n",
       "       [1, 4]])"
      ]
     },
     "execution_count": 165,
     "metadata": {},
     "output_type": "execute_result"
    }
   ],
   "source": [
    "g = [1,2,3,4]\n",
    "vand(g,2, True)"
   ]
  },
  {
   "cell_type": "code",
   "execution_count": 167,
   "metadata": {},
   "outputs": [
    {
     "data": {
      "text/plain": [
       "array([[1, 1],\n",
       "       [1, 2],\n",
       "       [1, 3],\n",
       "       [1, 4]])"
      ]
     },
     "execution_count": 167,
     "metadata": {},
     "output_type": "execute_result"
    }
   ],
   "source": [
    "np.vander(g,2, True)"
   ]
  },
  {
   "cell_type": "markdown",
   "metadata": {},
   "source": [
    "##### Given a sequence of n values x1, x2, ..., xn and a window size k>0, the k-th moving average of the given sequence is defined as follows:"
   ]
  },
  {
   "cell_type": "code",
   "execution_count": 179,
   "metadata": {},
   "outputs": [],
   "source": [
    "def move_avg(x,k):\n",
    "    ng = np.array(x)\n",
    "    n = len(ng)\n",
    "    for i in np.arange(n-k+1):\n",
    "           print(\"Moving Average\",\"Y\"+str(i+1), ' is', round(np.mean(ng[i:i+k]),2))"
   ]
  },
  {
   "cell_type": "code",
   "execution_count": 180,
   "metadata": {},
   "outputs": [
    {
     "name": "stdout",
     "output_type": "stream",
     "text": [
      "Moving Average Y1  is 5.0\n",
      "Moving Average Y2  is 4.67\n",
      "Moving Average Y3  is 5.67\n",
      "Moving Average Y4  is 6.67\n",
      "Moving Average Y5  is 9.67\n",
      "Moving Average Y6  is 28.67\n",
      "Moving Average Y7  is 49.33\n",
      "Moving Average Y8  is 72.67\n",
      "Moving Average Y9  is 84.0\n",
      "Moving Average Y10  is 93.33\n",
      "Moving Average Y11  is 116.33\n"
     ]
    }
   ],
   "source": [
    "gk =  [3, 5, 7, 2, 8, 10, 11, 65, 72, 81, 99, 100, 150]\n",
    "move_avg(gk,3)"
   ]
  },
  {
   "cell_type": "code",
   "execution_count": 181,
   "metadata": {},
   "outputs": [
    {
     "name": "stdout",
     "output_type": "stream",
     "text": [
      "Moving Average Y1  is 25.0\n",
      "Moving Average Y2  is 35.0\n",
      "Moving Average Y3  is 45.0\n",
      "Moving Average Y4  is 55.0\n",
      "Moving Average Y5  is 65.0\n",
      "Moving Average Y6  is 75.0\n",
      "Moving Average Y7  is 85.0\n"
     ]
    }
   ],
   "source": [
    "gh = np.asarray([10, 20, 30, 40, 50, 60, 70, 80, 90, 100])\n",
    "move_avg(gh,4)"
   ]
  },
  {
   "cell_type": "code",
   "execution_count": null,
   "metadata": {},
   "outputs": [],
   "source": []
  },
  {
   "cell_type": "code",
   "execution_count": null,
   "metadata": {},
   "outputs": [],
   "source": []
  }
 ],
 "metadata": {
  "kernelspec": {
   "display_name": "Python 3",
   "language": "python",
   "name": "python3"
  },
  "language_info": {
   "codemirror_mode": {
    "name": "ipython",
    "version": 3
   },
   "file_extension": ".py",
   "mimetype": "text/x-python",
   "name": "python",
   "nbconvert_exporter": "python",
   "pygments_lexer": "ipython3",
   "version": "3.7.3"
  }
 },
 "nbformat": 4,
 "nbformat_minor": 2
}
